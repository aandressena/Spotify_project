{
 "cells": [
  {
   "cell_type": "markdown",
   "metadata": {},
   "source": [
    "### Libraries"
   ]
  },
  {
   "cell_type": "code",
   "execution_count": null,
   "metadata": {},
   "outputs": [],
   "source": [
    "import pandas as pd\n",
    "import numpy as np\n",
    "\n",
    "import json\n",
    "import requests\n",
    "import base64\n",
    "import urllib.parse\n",
    "from bs4 import BeautifulSoup\n",
    "\n",
    "import unicodedata\n",
    "import ast\n",
    "import time\n",
    "import datetime\n",
    "\n",
    "import dotenv\n",
    "import os"
   ]
  },
  {
   "cell_type": "markdown",
   "metadata": {},
   "source": [
    "### Options"
   ]
  },
  {
   "cell_type": "code",
   "execution_count": null,
   "metadata": {},
   "outputs": [],
   "source": [
    "pd.set_option(\"display.max_columns\", None)"
   ]
  },
  {
   "cell_type": "code",
   "execution_count": null,
   "metadata": {},
   "outputs": [],
   "source": [
    "dotenv.load_dotenv(dotenv.find_dotenv(\"/home/b4/Documents/VisualCodeStudio/spotify_project/docs/.env\"))"
   ]
  },
  {
   "cell_type": "markdown",
   "metadata": {},
   "source": [
    "### Get Credentials"
   ]
  },
  {
   "cell_type": "code",
   "execution_count": null,
   "metadata": {},
   "outputs": [],
   "source": [
    "client_id = os.getenv(\"spotify_id\")\n",
    "client_secret = os.getenv(\"spotify_secret\")"
   ]
  },
  {
   "cell_type": "code",
   "execution_count": null,
   "metadata": {},
   "outputs": [],
   "source": [
    "client_creds = f\"{client_id}:{client_secret}\"\n",
    "client_creds_b64 = base64.b64encode(client_creds.encode())"
   ]
  },
  {
   "cell_type": "code",
   "execution_count": null,
   "metadata": {},
   "outputs": [],
   "source": [
    "token_url = \"https://accounts.spotify.com/api/token\"\n",
    "method = \"POST\"\n",
    "token_data = {\n",
    "    \"grant_type\": \"client_credentials\"\n",
    "}\n",
    "token_headers = {\n",
    "    \"Authorization\": f\"Basic {client_creds_b64.decode()}\"\n",
    "}"
   ]
  },
  {
   "cell_type": "markdown",
   "metadata": {},
   "source": [
    "### Functions"
   ]
  },
  {
   "cell_type": "markdown",
   "metadata": {},
   "source": [
    "##### Request"
   ]
  },
  {
   "cell_type": "code",
   "execution_count": null,
   "metadata": {},
   "outputs": [],
   "source": [
    "# Create item \"artist:id\" in dictionary\n",
    "artists_id = {}\n",
    "def get_artist_id(artist):\n",
    "    artist_list_id = []\n",
    "    query = urllib.parse.quote(artist)\n",
    "\n",
    "    url_search = f\"https://api.spotify.com/v1/search?q={query}&type=artist&limit=1\"\n",
    "    result_search = requests.get(url_search, headers=headers)\n",
    "\n",
    "    info_search = pd.json_normalize(json.loads(result_search.content))\n",
    "    df_info_search = pd.DataFrame(info_search['artists.items'][0])\n",
    "\n",
    "    '''\n",
    "    Create item in dict with Name and ID of artist\n",
    "    '''\n",
    "    artists_id[df_info_search['name'][0]] = df_info_search['id'][0]\n",
    "    return artists_id\n"
   ]
  },
  {
   "cell_type": "code",
   "execution_count": null,
   "metadata": {},
   "outputs": [],
   "source": [
    "# Request artist info from artists dictionary\n",
    "def get_artist():\n",
    "\n",
    "\tartist_dataframe = pd.DataFrame()\n",
    "\n",
    "\t'''\n",
    "\tRequest artists info.\n",
    "\t'''\n",
    "\tfor id in artists_id.values():\n",
    "\t\turl_artist = f\"\thttps://api.spotify.com/v1/artists/{id}\"\n",
    "\t\tresult_artist = requests.get(url_artist, headers=headers)\n",
    "\n",
    "\t\tinfo_artist = pd.json_normalize(json.loads(result_artist.content))\n",
    "\t\tartist_dataframe = pd.concat([artist_dataframe, info_artist])\n",
    "\n",
    "\t'''\n",
    "\tClean artists dataframe.\n",
    "\t'''\n",
    "\tgenres = []\n",
    "\tfor row in artist_dataframe['genres']:\n",
    "\t\tgn = []\n",
    "\t\tfor genre in row:\n",
    "\t\t\tgn.append(genre)\n",
    "\t\t\t\n",
    "\t\tgn = tuple(gn)\n",
    "\t\tgenres.append(gn)\n",
    "\t\t\t\n",
    "\tartist_dataframe['genres'] = genres\n",
    "\tartist_dataframe.drop(columns=['type', 'followers.href'], inplace=True)\n",
    "\tartist_dataframe.reset_index(drop=True, inplace=True)\n",
    "\n",
    "\treturn artist_dataframe\n"
   ]
  },
  {
   "cell_type": "code",
   "execution_count": null,
   "metadata": {},
   "outputs": [],
   "source": [
    "# Request albums from artists\n",
    "def get_artist_albums(df):\n",
    "\n",
    "\talbum_dataframe = pd.DataFrame()\n",
    "\n",
    "\t'''\n",
    "\tBase album request.\n",
    "\t'''\n",
    "\tfor id, name, pop in zip(df.id, df.name, df.popularity):\n",
    "\t\turl_album = f\"https://api.spotify.com/v1/artists/{id}/albums?limit=50&include_groups=album,single\"\n",
    "\t\tresult_album = requests.get(url_album, headers=headers)\n",
    "\n",
    "\t\tinfo_album = pd.json_normalize(json.loads(result_album.content))\n",
    "\t\tdf_info_album = pd.DataFrame(info_album['items'][0])\n",
    "\t\tdf_info_album['artist_name'] = name\n",
    "\t\tdf_info_album['artist_pop'] = pop\n",
    "\t\talbum_dataframe = pd.concat([album_dataframe, df_info_album])\n",
    "\n",
    "\t'''\n",
    "\tRequest next pages of albums.\n",
    "\t'''\n",
    "\twhile len(info_album['items'][0]) == 50:\n",
    "\t\turl_album_extra = info_album['next'][0]\n",
    "\t\tresult_album_extra = requests.get(url_album_extra, headers=headers)\n",
    "\n",
    "\t\tinfo_album = pd.json_normalize(json.loads(result_album_extra.content))\n",
    "\t\tdf_info_album_extra = pd.DataFrame(info_album['items'][0])\n",
    "\t\tdf_info_album_extra['artist_name'] = name\n",
    "\t\tdf_info_album_extra['artist_pop'] = pop\n",
    "\t\talbum_dataframe = pd.concat([album_dataframe, df_info_album_extra])\n",
    "\n",
    "\talbum_dataframe.reset_index(drop=True, inplace=True)\n",
    "\n",
    "\t'''\n",
    "\tGet album popularity.\n",
    "\t'''\n",
    "\tpoplist = []\n",
    "\tfor id in album_dataframe['id']:\n",
    "\t\turl_album_extra = f\"https://api.spotify.com/v1/albums/{id}\"\n",
    "\t\tresult_album_extra = requests.get(url_album_extra, headers=headers)\n",
    "\n",
    "\t\tinfo_album_extra = pd.json_normalize(json.loads(result_album_extra.content))\n",
    "\t\tpoplist.append(info_album_extra['popularity'][0])\n",
    "\n",
    "\talbum_dataframe['popularity'] = poplist\n",
    "\n",
    "\t'''\n",
    "\tClean album dataframe.\n",
    "\t'''\n",
    "\talbum_dataframe = album_dataframe[['name', 'id', 'total_tracks', 'popularity', 'release_date', 'artist_name', 'artist_pop', 'album_type', 'external_urls', 'images', 'href', 'uri', 'artists']]\n",
    "\n",
    "\treturn album_dataframe\n"
   ]
  },
  {
   "cell_type": "code",
   "execution_count": null,
   "metadata": {},
   "outputs": [],
   "source": [
    "# Request tracks from albums\n",
    "def get_album_tracks(df, headers, time_limit, now):\n",
    "\n",
    "\ttrack_dataframe = pd.DataFrame()\n",
    "\ttrack_extra_dataframe = pd.DataFrame()\n",
    "\tprint(\"Preparing...\", end='')\n",
    "\tfor id, art, artpop, alb, albpop in zip(df.id, df.artist_name, df.artist_pop, df.name, df.popularity):\n",
    "\t\turl_tracks = f\"https://api.spotify.com/v1/albums/{id}/tracks\"                 #| Request \n",
    "\t\tresult_tracks = requests.get(url_tracks, headers=headers)\n",
    "\n",
    "\t\ttrack_info = pd.json_normalize(json.loads(result_tracks.content))\n",
    "\t\tdf_track_info = pd.DataFrame(track_info['items'][0])\n",
    "\t\tdf_track_info['artist_name'] = art\n",
    "\t\tdf_track_info['artist_pop'] = artpop\n",
    "\t\tdf_track_info['album_name'] = alb\n",
    "\t\tdf_track_info['album_pop'] = albpop\n",
    "\t\ttrack_dataframe = pd.concat([track_dataframe, df_track_info], ignore_index=True)\n",
    "\n",
    "\t\t# Avoid disconnecting API\n",
    "\t\tif now > time_limit - datetime.timedelta(seconds=120):\n",
    "\t\t\theaders, time_limit, now = get_auth()\n",
    "\t\t\tnow = datetime.datetime.now()\n",
    "\t\t\ttime_limit = now + datetime.timedelta(seconds=expires_in) \n",
    "\n",
    "\tprint(f\"\\r<Albuns successfully collected.>\")\n",
    "\tfor id_track in track_dataframe['id']:\n",
    "\t\turl_tracks_extra_info = f\"https://api.spotify.com/v1/audio-features/{id_track}\"     #| Extra info request \n",
    "\t\tresult_tracks_extra = requests.get(url_tracks_extra_info, headers=headers)\n",
    "\n",
    "\t\ttrack_extra_info = pd.json_normalize(json.loads(result_tracks_extra.content))\n",
    "\n",
    "\t\ttrack_extra_dataframe = pd.concat([track_extra_dataframe, track_extra_info], ignore_index=True)\n",
    "\n",
    "\t\tprint(f\"\\rCollecting tracks: {round((len(track_extra_dataframe))/(len(track_dataframe))*100, 2)} %\", end='')\n",
    "\n",
    "\tprint('\\033[A\\r<Tracks successfully colected.>\\n')\n",
    "\tprint('Preparing...', end='')\n",
    "\t'''\n",
    "\tGet track popularity.\n",
    "\t'''\n",
    "\tpoplist = []\n",
    "\tfor id in track_dataframe['id']:\n",
    "\t\turl_track_extra = f\"https://api.spotify.com/v1/tracks?ids={id}\"\n",
    "\t\tresult_track_extra = requests.get(url_track_extra, headers=headers)\n",
    "\n",
    "\t\tinfo_track_extra = pd.json_normalize(json.loads(result_track_extra.content))\n",
    "\t\tpoplist.append(info_track_extra['tracks'][0][0]['popularity'])\n",
    "\n",
    "\t\t# Avoid disconnecting API\n",
    "\t\tif now > time_limit - datetime.timedelta(seconds=120):\n",
    "\t\t\theaders, time_limit, now = get_auth()\n",
    "\t\t\tnow = datetime.datetime.now()\n",
    "\t\t\ttime_limit = now + datetime.timedelta(seconds=expires_in)\n",
    "\n",
    "\ttrack_dataframe['track_pop'] = poplist\n",
    "\n",
    "\t'''\n",
    "\tClean dataframe\n",
    "\t'''\n",
    "\ttrack_extra_dataframe.drop(columns=['type', 'id', 'uri', 'track_href', 'duration_ms'], inplace=True)\n",
    "\ttrack_dataframe = pd.concat([track_dataframe, track_extra_dataframe], axis=1)\n",
    "\ttrack_dataframe = track_dataframe[['track_number', 'name', 'id', 'duration_ms', 'track_pop', 'album_name', 'album_pop', 'artist_name',\n",
    "\t\t'artist_pop', 'artists', 'href', 'external_urls', 'uri', 'analysis_url', 'preview_url',\n",
    "\t\t'explicit', 'disc_number','available_markets', 'danceability', 'energy', 'key', 'loudness',\n",
    "\t\t'mode', 'speechiness', 'acousticness', 'instrumentalness', 'liveness', 'valence', 'tempo','time_signature']]\n",
    "\tprint(\"\\rDone!       \")\n",
    "\treturn track_dataframe\n"
   ]
  },
  {
   "cell_type": "markdown",
   "metadata": {},
   "source": [
    "##### Cleaning"
   ]
  },
  {
   "cell_type": "code",
   "execution_count": null,
   "metadata": {},
   "outputs": [],
   "source": [
    "# Drop Playbacks and repeated songs\n",
    "def drop_playbacks_copy(df_tracks):\n",
    "  df_tracks.drop(df_tracks[df_tracks['album_name'].str.contains(\"Playback\")].index, inplace=True) #| Playbacks in Albums\n",
    "  df_tracks.drop(df_tracks[df_tracks['name'].str.contains(\"Playback\")].index, inplace=True)       #| Playbacks in Tracks\n",
    "\n",
    "  df_tracks.drop_duplicates(subset=['name','duration_ms'], inplace=True)                          #| Tracks repeated\n",
    "\n",
    "  df_tracks.reset_index(drop=True, inplace=True)\n",
    "  \n",
    "  return df_tracks\n"
   ]
  },
  {
   "cell_type": "code",
   "execution_count": null,
   "metadata": {},
   "outputs": [],
   "source": [
    "# Disjoint 'artists' column in featured artists column\n",
    "def disjoint_artists(df_tracks):\n",
    "  feat_artista = []\n",
    "  for musica in df_tracks['artists']:\n",
    "    art = []\n",
    "    for artista in musica:\n",
    "      art.append(artista['name'])\n",
    "    art = tuple(art)\n",
    "    feat_artista.append(art)\n",
    "    \n",
    "  df_tracks['artists_feat'] = feat_artista\n",
    "  return df_tracks\n"
   ]
  },
  {
   "cell_type": "code",
   "execution_count": null,
   "metadata": {},
   "outputs": [],
   "source": [
    "# Create columns with duration in minutes\n",
    "def convert_duration_min(df_tracks):\n",
    "  duration = []\n",
    "  for x in df_tracks['duration_ms']:\n",
    "    dur = str(datetime.timedelta(milliseconds=x))[2:7]\n",
    "    duration.append(dur)\n",
    "  df_tracks['duration_min'] = duration\n",
    "  return df_tracks\n"
   ]
  },
  {
   "cell_type": "code",
   "execution_count": null,
   "metadata": {},
   "outputs": [],
   "source": [
    "# Reorder columns\n",
    "def reorder_columns(df_tracks):\n",
    "  df_tracks = df_tracks[['track_number', 'name', 'id', 'duration_min', 'track_pop', 'album_name', 'album_pop', 'artist_name',\n",
    "                         'artist_pop', 'artists_feat', 'href', 'external_urls', 'uri', 'analysis_url', 'preview_url',\n",
    "                         'explicit', 'disc_number','available_markets', 'duration_ms', 'danceability', 'energy', 'key', 'loudness',\n",
    "                         'mode', 'speechiness', 'acousticness', 'instrumentalness', 'liveness', 'valence', 'tempo','time_signature']]\n",
    "  return df_tracks\n"
   ]
  },
  {
   "cell_type": "markdown",
   "metadata": {},
   "source": [
    "#### Pipeline"
   ]
  },
  {
   "cell_type": "code",
   "execution_count": null,
   "metadata": {},
   "outputs": [],
   "source": [
    "# Pipeline with all cleaning steps\n",
    "def pipeline_clean(df_tracks):\n",
    "    df1 = convert_duration_min(df_tracks)\n",
    "    df2 = drop_playbacks_copy(df1)\n",
    "    df3 = disjoint_artists(df2)\n",
    "    df_tracks = reorder_columns(df3)\n",
    "    \n",
    "    return df_tracks\n"
   ]
  },
  {
   "cell_type": "code",
   "execution_count": null,
   "metadata": {},
   "outputs": [],
   "source": [
    "# Pipeline with all requesting data steps\n",
    "# Update: Gift_box - wrap up all dataframes into one\n",
    "def pipeline_request():\n",
    "    headers, time_limit, now = get_auth()\n",
    "    df_artists = get_artist()\n",
    "    df_albums = get_artist_albums(df_artists)\n",
    "    tracks = get_album_tracks(df_albums, headers, time_limit, now)\n",
    "    df_tracks = pipeline_clean(tracks)\n",
    "    df_box = gift_box(df_tracks, df_artists, df_albums)\n",
    "\n",
    "    return df_box"
   ]
  },
  {
   "cell_type": "markdown",
   "metadata": {},
   "source": [
    "#### Authorization Counter"
   ]
  },
  {
   "cell_type": "code",
   "execution_count": null,
   "metadata": {},
   "outputs": [],
   "source": [
    "# Provide access token and request headers\n",
    "def get_auth():\n",
    "    r = requests.post(token_url, data=token_data, headers=token_headers)\n",
    "    token_response_data = r.json()\n",
    "    access_token = token_response_data['access_token']\n",
    "    expires_in = token_response_data['expires_in']\n",
    "    now = datetime.datetime.now()\n",
    "    time_limit = now + datetime.timedelta(seconds=expires_in)\n",
    "    headers = { \"Authorization\": f\"Bearer {access_token}\",\n",
    "            \"Content-Type\": \"application/json\"\n",
    "                }\n",
    "    return headers, time_limit, now"
   ]
  },
  {
   "cell_type": "markdown",
   "metadata": {},
   "source": [
    "#### Extra functions"
   ]
  },
  {
   "cell_type": "code",
   "execution_count": null,
   "metadata": {},
   "outputs": [],
   "source": [
    "# Wrap up dataframes into one\n",
    "def gift_box(df_tracks, df_artists, df_albums):\n",
    "    df_box = pd.DataFrame()\n",
    "\n",
    "    tracks_list = []\n",
    "    artists_list = []\n",
    "    albums_list = []\n",
    "\n",
    "    tracks_list.append(df_tracks.to_dict())\n",
    "    artists_list.append(df_artists.to_dict())\n",
    "    albums_list.append(df_albums.to_dict())\n",
    "\n",
    "    df_box['tracks'] = tracks_list\n",
    "    df_box['artists'] = artists_list\n",
    "    df_box['albums'] = albums_list\n",
    "\n",
    "    return df_box\n"
   ]
  },
  {
   "cell_type": "code",
   "execution_count": null,
   "metadata": {},
   "outputs": [],
   "source": [
    "# Search song name in dataframe\n",
    "def search_song(song, dataframe):\n",
    "  nfkd_form = unicodedata.normalize('NFKD', song)\n",
    "  only_ascii = nfkd_form.encode('ASCII', 'ignore')\n",
    "  search = only_ascii.decode()\n",
    "  return dataframe[dataframe['name'].str.normalize('NFKD').str.encode('ascii', errors='ignore').str.decode('utf-8').str.contains(search, case=False)]\n"
   ]
  },
  {
   "cell_type": "code",
   "execution_count": null,
   "metadata": {},
   "outputs": [],
   "source": [
    "# Drop selected albums (--Better visualized in Google Colab--)\n",
    "def drop_album(dataframe, artist, name=None):\n",
    "\n",
    "  df = dataframe[dataframe['artist_name'] == artist]\n",
    "\n",
    "  if name == None:\n",
    "    print(*sorted(list(set(df['album_name'].unique()))), sep = \"\\n\")\n",
    "    name = input(\"Choose an album. \")\n",
    "    output.clear()\n",
    "    print(df[df['album_name'] == name]['name'])\n",
    "    drop_album_aux(name)\n",
    "    '''\n",
    "    If 'name' is 'None', prints list of albuns for choosing,\n",
    "    prints tracks from selected album, asks for confirmation\n",
    "    and drops album.\n",
    "    '''\n",
    "\n",
    "  elif name == tuple(name):\n",
    "    while True:\n",
    "      choice = input(f\"Drop {len(name)} albums? \")\n",
    "      if choice == 'y':\n",
    "        for x in range(0,len(name)):\n",
    "          dataframe.drop(index=(df[df['album_name']==name[x]].index), inplace=True)\n",
    "        print(f\"{len(name)} Albums droped.\")\n",
    "        break\n",
    "      elif choice == 'n':\n",
    "        output.clear()\n",
    "        print('No alterations.')\n",
    "        break\n",
    "      else:\n",
    "        print(\"Yes: 'y' or No: 'n'\")\n",
    "    '''\n",
    "    If 'name' is a Tuple of multiple albums, asks for confirmation and drops albums.\n",
    "    '''\n",
    "\n",
    "  else:\n",
    "    print(df[df['album_name'] == name]['name'])\n",
    "    drop_album_aux(name)\n",
    "    '''\n",
    "    If 'name' is an album name, prints tracks from selected album,\n",
    "    asks for confirmation and drops album.\n",
    "    '''\n"
   ]
  },
  {
   "cell_type": "markdown",
   "metadata": {},
   "source": [
    "### New Requests"
   ]
  },
  {
   "cell_type": "code",
   "execution_count": null,
   "metadata": {},
   "outputs": [],
   "source": [
    "headers = get_auth()[0]"
   ]
  },
  {
   "cell_type": "code",
   "execution_count": null,
   "metadata": {},
   "outputs": [],
   "source": [
    "artists_id = {}"
   ]
  },
  {
   "cell_type": "code",
   "execution_count": null,
   "metadata": {},
   "outputs": [],
   "source": [
    "get_artist_id('')"
   ]
  },
  {
   "cell_type": "code",
   "execution_count": null,
   "metadata": {},
   "outputs": [],
   "source": [
    "spotify_dataframe = pipeline_request()"
   ]
  },
  {
   "cell_type": "markdown",
   "metadata": {},
   "source": [
    "##### Easy List"
   ]
  },
  {
   "cell_type": "code",
   "execution_count": null,
   "metadata": {},
   "outputs": [],
   "source": [
    "mylistfacil = [ 'Paulo Cesar Baruk',\n",
    "                'Eli Soares',\n",
    "                'Davi Sacer',\n",
    "                'Nívea Soares',\n",
    "                'Fernandinho',\n",
    "                'Kleber Lucas',\n",
    "                'Fernanda Brum',\n",
    "                'Aline Barros',\n",
    "                'Diante do Trono',\n",
    "                'Gabriela Rocha',\n",
    "                'Ministério Vineyard',\n",
    "                'Renascer Praise',\n",
    "                'Adhemar De Campos',\n",
    "                'Vencedores por Cristo'\n",
    "                ]"
   ]
  },
  {
   "cell_type": "code",
   "execution_count": null,
   "metadata": {},
   "outputs": [],
   "source": [
    "for i in mylistfacil:\n",
    "    get_artist_id(i)"
   ]
  },
  {
   "cell_type": "code",
   "execution_count": null,
   "metadata": {},
   "outputs": [],
   "source": [
    "tracks_dataframe[0]"
   ]
  },
  {
   "cell_type": "markdown",
   "metadata": {},
   "source": [
    "### Save"
   ]
  },
  {
   "cell_type": "code",
   "execution_count": null,
   "metadata": {},
   "outputs": [],
   "source": [
    "# spotify_dataframe.to_csv(\"/home/b4/Documents/VisualCodeStudio/spotify_project/data/spotify_dataframe.csv\")"
   ]
  },
  {
   "cell_type": "code",
   "execution_count": null,
   "metadata": {},
   "outputs": [],
   "source": [
    "spotify_dataframe = read_csv(\"/home/b4/Documents/VisualCodeStudio/spotify_project/data/spotify_dataframe.csv\")"
   ]
  },
  {
   "cell_type": "code",
   "execution_count": null,
   "metadata": {},
   "outputs": [],
   "source": []
  }
 ],
 "metadata": {
  "interpreter": {
   "hash": "dd79759fb7ede1166a38efadbca526975f04951409238b9b3b6e96c8fb63e2f2"
  },
  "kernelspec": {
   "display_name": "Python 3.10.4 ('.spotify_project': venv)",
   "language": "python",
   "name": "python3"
  },
  "language_info": {
   "codemirror_mode": {
    "name": "ipython",
    "version": 3
   },
   "file_extension": ".py",
   "mimetype": "text/x-python",
   "name": "python",
   "nbconvert_exporter": "python",
   "pygments_lexer": "ipython3",
   "version": "3.10.4"
  },
  "orig_nbformat": 4,
  "vscode": {
   "interpreter": {
    "hash": "dd79759fb7ede1166a38efadbca526975f04951409238b9b3b6e96c8fb63e2f2"
   }
  }
 },
 "nbformat": 4,
 "nbformat_minor": 2
}
